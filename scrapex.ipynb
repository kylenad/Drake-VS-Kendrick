{
 "cells": [
  {
   "cell_type": "code",
   "execution_count": 3,
   "id": "c9432a52-d4f0-48e2-8252-b7600ceeef4a",
   "metadata": {},
   "outputs": [],
   "source": [
    "import pandas as pd\n",
    "from ntscraper import Nitter"
   ]
  },
  {
   "cell_type": "code",
   "execution_count": 4,
   "id": "b0edee39-9c98-4aa8-a565-31a4c4b27fed",
   "metadata": {},
   "outputs": [
    {
     "name": "stderr",
     "output_type": "stream",
     "text": [
      "Testing instances: 100%|████████████████████████| 77/77 [00:53<00:00,  1.44it/s]\n"
     ]
    }
   ],
   "source": [
    "scraper = Nitter()"
   ]
  },
  {
   "cell_type": "code",
   "execution_count": 22,
   "id": "065a98d8-07c0-4470-8ae3-6a968fc5c999",
   "metadata": {},
   "outputs": [
    {
     "name": "stdout",
     "output_type": "stream",
     "text": [
      "22-May-24 15:52:24 - No instance specified, using random instance https://nitter.privacydev.net\n",
      "22-May-24 15:52:29 - Current stats for Drake: 5 tweets, 0 threads...\n"
     ]
    }
   ],
   "source": [
    "tweets = scraper.get_tweets('Drake', mode = 'hashtag', number = 5)"
   ]
  },
  {
   "cell_type": "code",
   "execution_count": 23,
   "id": "ed29ca3e-f188-4be9-a1ab-16f3912c839f",
   "metadata": {},
   "outputs": [],
   "source": [
    "final_tweets = []\n",
    "for tweet in tweets['tweets']:\n",
    "    data = [tweet['link'], tweet['text'], tweet['date']]\n",
    "    final_tweets.append(data)"
   ]
  },
  {
   "cell_type": "code",
   "execution_count": 24,
   "id": "4ee5b5d9-b7dd-4bc7-a3c7-b980804631ea",
   "metadata": {},
   "outputs": [
    {
     "name": "stdout",
     "output_type": "stream",
     "text": [
      "[['https://twitter.com/8tracBrown/status/1792474003803631732#m', '@Drake #TheHeartPart6 #Drake #KendrickLamar https://youtu.be/uEGVIFtwiDs?si=z2hEeUeWIG0WlYhZ @JohnnyODell @bizzybron @Showtyme_RC @pwhustleprof @BigRayHernandez @Trav13369 @Dcxvi_13 @DrewGWill36 @Comicphilosopha @akasan @kendricklamar @LordBeerusGod99 @hennybottle @TophKnowsBest @SirRobinBP', 'May 20, 2024 · 8:34 AM UTC'], ['https://twitter.com/Dundun53/status/1790308052635197934#m', '#straightdudes #straightfriends #drake #elonmusk #fightvideos #Fights #twistedtea #bros #bubblebutt #twink #bimen #rawanal #incestbros #twinbros #girthmaster #jakips', 'May 14, 2024 · 9:07 AM UTC'], ['https://twitter.com/JalisaAvari/status/1791128823087439912#m', 'Follow Spotify Playlist to Tune in on New Diss Tracks #sukhiana #kendricklamar #drake #breezy #quavo #celebrity #megantheestallion #nickimimaj #disstracks #spotifydisstracks #followplaylist https://open.spotify.com/playlist/6WVABoRYmJEuIPfH3o6FsA', 'May 16, 2024 · 3:29 PM UTC'], ['https://twitter.com/igna_so_ugly/status/1786399152177348970#m', 'I don’t pay for pussy, I pay for the services #drake', 'May 3, 2024 · 2:15 PM UTC'], ['https://twitter.com/activelyananda7/status/1793361313671877042#m', '#drake', 'May 22, 2024 · 7:20 PM UTC']]\n"
     ]
    }
   ],
   "source": [
    "print(final_tweets)"
   ]
  },
  {
   "cell_type": "code",
   "execution_count": 25,
   "id": "9c801deb-a76a-4ba2-90a2-2c3b4abe47ae",
   "metadata": {},
   "outputs": [],
   "source": [
    "df = pd.DataFrame(final_tweets, columns =['link', 'text', 'date'])"
   ]
  },
  {
   "cell_type": "code",
   "execution_count": 27,
   "id": "4dd69c5a-dab3-43e9-b4da-d109161b80c2",
   "metadata": {},
   "outputs": [
    {
     "data": {
      "text/html": [
       "<div>\n",
       "<style scoped>\n",
       "    .dataframe tbody tr th:only-of-type {\n",
       "        vertical-align: middle;\n",
       "    }\n",
       "\n",
       "    .dataframe tbody tr th {\n",
       "        vertical-align: top;\n",
       "    }\n",
       "\n",
       "    .dataframe thead th {\n",
       "        text-align: right;\n",
       "    }\n",
       "</style>\n",
       "<table border=\"1\" class=\"dataframe\">\n",
       "  <thead>\n",
       "    <tr style=\"text-align: right;\">\n",
       "      <th></th>\n",
       "      <th>link</th>\n",
       "      <th>text</th>\n",
       "      <th>date</th>\n",
       "    </tr>\n",
       "  </thead>\n",
       "  <tbody>\n",
       "    <tr>\n",
       "      <th>0</th>\n",
       "      <td>https://twitter.com/8tracBrown/status/17924740...</td>\n",
       "      <td>@Drake #TheHeartPart6 #Drake #KendrickLamar ht...</td>\n",
       "      <td>May 20, 2024 · 8:34 AM UTC</td>\n",
       "    </tr>\n",
       "    <tr>\n",
       "      <th>1</th>\n",
       "      <td>https://twitter.com/Dundun53/status/1790308052...</td>\n",
       "      <td>#straightdudes #straightfriends #drake #elonmu...</td>\n",
       "      <td>May 14, 2024 · 9:07 AM UTC</td>\n",
       "    </tr>\n",
       "    <tr>\n",
       "      <th>2</th>\n",
       "      <td>https://twitter.com/JalisaAvari/status/1791128...</td>\n",
       "      <td>Follow Spotify Playlist to Tune in on New Diss...</td>\n",
       "      <td>May 16, 2024 · 3:29 PM UTC</td>\n",
       "    </tr>\n",
       "    <tr>\n",
       "      <th>3</th>\n",
       "      <td>https://twitter.com/igna_so_ugly/status/178639...</td>\n",
       "      <td>I don’t pay for pussy, I pay for the services ...</td>\n",
       "      <td>May 3, 2024 · 2:15 PM UTC</td>\n",
       "    </tr>\n",
       "    <tr>\n",
       "      <th>4</th>\n",
       "      <td>https://twitter.com/activelyananda7/status/179...</td>\n",
       "      <td>#drake</td>\n",
       "      <td>May 22, 2024 · 7:20 PM UTC</td>\n",
       "    </tr>\n",
       "  </tbody>\n",
       "</table>\n",
       "</div>"
      ],
      "text/plain": [
       "                                                link  \\\n",
       "0  https://twitter.com/8tracBrown/status/17924740...   \n",
       "1  https://twitter.com/Dundun53/status/1790308052...   \n",
       "2  https://twitter.com/JalisaAvari/status/1791128...   \n",
       "3  https://twitter.com/igna_so_ugly/status/178639...   \n",
       "4  https://twitter.com/activelyananda7/status/179...   \n",
       "\n",
       "                                                text  \\\n",
       "0  @Drake #TheHeartPart6 #Drake #KendrickLamar ht...   \n",
       "1  #straightdudes #straightfriends #drake #elonmu...   \n",
       "2  Follow Spotify Playlist to Tune in on New Diss...   \n",
       "3  I don’t pay for pussy, I pay for the services ...   \n",
       "4                                             #drake   \n",
       "\n",
       "                         date  \n",
       "0  May 20, 2024 · 8:34 AM UTC  \n",
       "1  May 14, 2024 · 9:07 AM UTC  \n",
       "2  May 16, 2024 · 3:29 PM UTC  \n",
       "3   May 3, 2024 · 2:15 PM UTC  \n",
       "4  May 22, 2024 · 7:20 PM UTC  "
      ]
     },
     "execution_count": 27,
     "metadata": {},
     "output_type": "execute_result"
    }
   ],
   "source": [
    "df"
   ]
  },
  {
   "cell_type": "code",
   "execution_count": null,
   "id": "0a5877be-bcf8-4fed-be79-1fd4df7db211",
   "metadata": {},
   "outputs": [],
   "source": []
  }
 ],
 "metadata": {
  "kernelspec": {
   "display_name": "myenv",
   "language": "python",
   "name": "myenv"
  },
  "language_info": {
   "codemirror_mode": {
    "name": "ipython",
    "version": 3
   },
   "file_extension": ".py",
   "mimetype": "text/x-python",
   "name": "python",
   "nbconvert_exporter": "python",
   "pygments_lexer": "ipython3",
   "version": "3.11.5"
  }
 },
 "nbformat": 4,
 "nbformat_minor": 5
}
