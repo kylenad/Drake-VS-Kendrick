{
 "cells": [
  {
   "cell_type": "code",
   "execution_count": 3,
   "id": "c9432a52-d4f0-48e2-8252-b7600ceeef4a",
   "metadata": {},
   "outputs": [],
   "source": [
    "import pandas as pd\n",
    "from ntscraper import Nitter"
   ]
  },
  {
   "cell_type": "code",
   "execution_count": 4,
   "id": "b0edee39-9c98-4aa8-a565-31a4c4b27fed",
   "metadata": {},
   "outputs": [
    {
     "name": "stderr",
     "output_type": "stream",
     "text": [
      "Testing instances: 100%|████████████████████████| 77/77 [00:53<00:00,  1.44it/s]\n"
     ]
    }
   ],
   "source": [
    "scraper = Nitter()"
   ]
  },
  {
   "cell_type": "code",
   "execution_count": 6,
   "id": "065a98d8-07c0-4470-8ae3-6a968fc5c999",
   "metadata": {},
   "outputs": [
    {
     "name": "stdout",
     "output_type": "stream",
     "text": [
      "22-May-24 15:36:47 - No instance specified, using random instance https://nitter.privacydev.net\n",
      "22-May-24 15:36:48 - Empty page on https://nitter.privacydev.net\n"
     ]
    }
   ],
   "source": [
    "tweets = scraper.get_tweets('Drake', mode = 'hashtag', number = 5)"
   ]
  },
  {
   "cell_type": "code",
   "execution_count": null,
   "id": "ed29ca3e-f188-4be9-a1ab-16f3912c839f",
   "metadata": {},
   "outputs": [],
   "source": []
  }
 ],
 "metadata": {
  "kernelspec": {
   "display_name": "myenv",
   "language": "python",
   "name": "myenv"
  },
  "language_info": {
   "codemirror_mode": {
    "name": "ipython",
    "version": 3
   },
   "file_extension": ".py",
   "mimetype": "text/x-python",
   "name": "python",
   "nbconvert_exporter": "python",
   "pygments_lexer": "ipython3",
   "version": "3.11.5"
  }
 },
 "nbformat": 4,
 "nbformat_minor": 5
}
